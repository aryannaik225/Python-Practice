{
 "cells": [
  {
   "cell_type": "markdown",
   "metadata": {},
   "source": [
    "You are given a function f(X)=X^2 . You are also given K lists. The i^th list consists of N_i elements.\n",
    "You have to pick one element from each list so that the value from the equation below is maximized:\n",
    "\n",
    "S = (f(X_1) + f(X_2) + ... + f(X_k))%M\n",
    "\n",
    "X_i denotes the element picked from the i^th list . Find the maximized value S_max obtained.\n",
    "\n",
    "% denotes the modulo operator.\n",
    "\n",
    "Note that you need to take exactly one element from each list, not necessarily the largest element. You add the squares of the chosen elements and perform the modulo operation. The maximum value that you can obtain, will be the answer to the problem.\n",
    "\n",
    "Input Format\n",
    "The first line contains 2 space separated integers K and M.\n",
    "The next K lines each contains an integer N_i, denoting the number of elements in the i^th list, followed by N_i space separated integers denoting the elements in the list.\n",
    "\n",
    "\n",
    "Output Format\n",
    "Output a single integer denoting the value S_max.\n",
    "\n",
    "Sample Input\n",
    "3 1000\n",
    "2 5 4\n",
    "3 7 8 9 \n",
    "5 5 7 8 9 10 \n",
    "\n",
    "Sample Output\n",
    "206\n",
    "\n",
    "Explanation\n",
    "Picking 5 from the 1st list, 9 from the 2nd list and 10 from the 3rd list gives the maximum S value equal to (5^2 + 9^2 + 10^2)%1000 = 206."
   ]
  },
  {
   "cell_type": "code",
   "execution_count": null,
   "metadata": {},
   "outputs": [],
   "source": [
    "# Enter your code here. Read input from STDIN. Print output to STDOUT\n",
    "k, m  = map(int, input().split())\n",
    "\n",
    "mylist = []\n",
    "for _ in range(k):\n",
    "    mylist.append(list(map(int, input().split()))[1:])\n",
    "    \n",
    "def combinations(lists, current=[], index=0):\n",
    "    if index == len(lists):\n",
    "        yield current\n",
    "        return\n",
    "    for item in lists[index]:\n",
    "        yield from combinations(lists, current+[item], index+1)\n",
    "        \n",
    "maxc = 0\n",
    "for comb in combinations(mylist):\n",
    "    total = sum(x**2 for x in comb)\n",
    "    maxc = max(maxc, total%m)\n",
    "    \n",
    "print(maxc)"
   ]
  }
 ],
 "metadata": {
  "language_info": {
   "name": "python"
  }
 },
 "nbformat": 4,
 "nbformat_minor": 2
}
