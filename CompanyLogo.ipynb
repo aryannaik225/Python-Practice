{
 "cells": [
  {
   "cell_type": "code",
   "execution_count": null,
   "metadata": {},
   "outputs": [],
   "source": [
    "# A newly opened multinational brand has decided to base their company logo on the three most common characters in the company name. \n",
    "# They are now trying out various combinations of company names and logos based on this condition. \n",
    "# Given a string s, which is the company name in lowercase letters, your task is to find the top three most common characters in the string.\n",
    "\n",
    "# Print the three most common characters along with their occurrence count.\n",
    "# Sort in descending order of occurrence count.\n",
    "# If the occurrence count is the same, sort the characters in alphabetical order.\n",
    "# For example, according to the conditions described above\n",
    "\n",
    "# GOOGLE would have it's logo with the letters G, O, E.\n",
    "\n",
    "# Input Format\n",
    "\n",
    "# A single line of input containing the string S.\n",
    "\n",
    "# Output Format\n",
    "\n",
    "# Print the three most common characters along with their occurrence count each on a separate line.\n",
    "# Sort output in descending order of occurrence count.\n",
    "# If the occurrence count is the same, sort the characters in alphabetical order.\n",
    "\n",
    "# Sample Input 0\n",
    "# aabbbccde\n",
    "\n",
    "# Sample Output 0\n",
    "# b 3\n",
    "# a 2\n",
    "# c 2\n",
    "\n",
    "# Explanation 0\n",
    "# aabbbccde\n",
    "# Here, b occurs 3 times. It is printed first.\n",
    "# Both a and c occur 2 times. So, a is printed in the second line and c in the third line because a comes before c in the alphabet.\n",
    "\n",
    "# Note: The string S has at least 3 distinct characters."
   ]
  },
  {
   "cell_type": "code",
   "execution_count": 16,
   "metadata": {},
   "outputs": [
    {
     "name": "stdout",
     "output_type": "stream",
     "text": [
      "b 3\n",
      "a 2\n",
      "c 2\n"
     ]
    }
   ],
   "source": [
    "if __name__ == '__main__':\n",
    "  s = input()\n",
    "  mylist = list(s)\n",
    "  d = {}\n",
    "  for i in range(len(mylist)):\n",
    "    if mylist[i] in d:\n",
    "      d[mylist[i][0]]+=1\n",
    "    else:\n",
    "      d[mylist[i][0]] = 1\n",
    "\n",
    "  sorted_items = sorted(d.items(), key=lambda kv:(kv[1], -ord(kv[0])))\n",
    "\n",
    "  for i in range(min(3, len(sorted_items))):\n",
    "    print(f\"{sorted_items[len(sorted_items)-i-1][0]} {sorted_items[len(sorted_items)-i-1][1]}\")\n",
    "  \n"
   ]
  },
  {
   "cell_type": "code",
   "execution_count": 12,
   "metadata": {},
   "outputs": [
    {
     "name": "stdout",
     "output_type": "stream",
     "text": [
      "{'a': 2, 'b': 3, 'c': 2, 'd': 1, 'e': 1}\n",
      "[('d', 1), ('e', 1), ('a', 2), ('c', 2), ('b', 3)]\n"
     ]
    }
   ],
   "source": [
    "if __name__ == '__main__':\n",
    "  s = input()\n",
    "  mylist = list(s)\n",
    "  d = {}\n",
    "  for i in range(len(mylist)):\n",
    "    if mylist[i] in d:\n",
    "      d[mylist[i][0]]+=1\n",
    "    else:\n",
    "      d[mylist[i][0]] = 1\n",
    "\n",
    "  print(d)\n",
    "\n",
    "  sorted_items = sorted(d.items(), key=lambda kv: (kv[1], kv[0]))\n",
    "  print(sorted_items)"
   ]
  },
  {
   "cell_type": "code",
   "execution_count": 8,
   "metadata": {},
   "outputs": [
    {
     "name": "stdout",
     "output_type": "stream",
     "text": [
      "['rajnish', 'ravi', 'sanjeev']\n",
      "[('rajnish', 9), ('ravi', 10), ('sanjeev', 15)]\n"
     ]
    }
   ],
   "source": [
    "# Figuring something out\n",
    "\n",
    "d = {'ravi': 10, 'rajnish': 9, 'sanjeev': 15}\n",
    "\n",
    "myKeys = list(d.keys())\n",
    "myKeys.sort()\n",
    "print(myKeys)\n",
    "\n",
    "sorted_items = sorted(d.items(), key=lambda kv: (kv[1], kv[0]))\n",
    "print(sorted_items)"
   ]
  }
 ],
 "metadata": {
  "kernelspec": {
   "display_name": "Python 3",
   "language": "python",
   "name": "python3"
  },
  "language_info": {
   "codemirror_mode": {
    "name": "ipython",
    "version": 3
   },
   "file_extension": ".py",
   "mimetype": "text/x-python",
   "name": "python",
   "nbconvert_exporter": "python",
   "pygments_lexer": "ipython3",
   "version": "3.12.7"
  }
 },
 "nbformat": 4,
 "nbformat_minor": 2
}
