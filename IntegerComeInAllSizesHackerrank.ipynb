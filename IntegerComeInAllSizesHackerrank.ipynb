{
 "cells": [
  {
   "cell_type": "code",
   "execution_count": null,
   "metadata": {},
   "outputs": [],
   "source": [
    "# Task\n",
    "# Read four numbers, a, b, c, and d, and print the result of a^b + c^d.\n",
    "\n",
    "# Input Format\n",
    "# Integers a, b, c, and d are given on four separate lines, respectively.\n",
    "\n",
    "# Sample Input\n",
    "# 9\n",
    "# 29\n",
    "# 7\n",
    "# 27\n",
    "\n",
    "# Sample Output\n",
    "# 4710194409608608369201743232 "
   ]
  },
  {
   "cell_type": "code",
   "execution_count": null,
   "metadata": {},
   "outputs": [],
   "source": [
    "# Enter your code here. Read input from STDIN. Print output to STDOUT\n",
    "a,b,c,d = [int(input()) for _ in range(4)]\n",
    "print(pow(a,b)+pow(c,d))"
   ]
  }
 ],
 "metadata": {
  "language_info": {
   "name": "python"
  }
 },
 "nbformat": 4,
 "nbformat_minor": 2
}
