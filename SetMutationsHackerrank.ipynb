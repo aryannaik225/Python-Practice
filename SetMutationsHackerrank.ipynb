{
 "cells": [
  {
   "cell_type": "code",
   "execution_count": null,
   "metadata": {},
   "outputs": [],
   "source": [
    "# Input Format\n",
    "\n",
    "# The first line contains the number of elements in set A.\n",
    "# The second line contains the space separated list of elements in set A.\n",
    "# The third line contains integer N, the number of other sets.\n",
    "# The next 2*N lines are divided into N parts containing two lines each.\n",
    "# The first line of each part contains the space separated entries of the operation name and the length of the other set.\n",
    "# The second line of each part contains space separated list of elements in the other set.\n",
    "\n",
    "# Output Format\n",
    "# Output the sum of elements in set A.\n",
    "\n",
    "# Sample Input\n",
    "#  16\n",
    "#  1 2 3 4 5 6 7 8 9 10 11 12 13 14 24 52\n",
    "#  4\n",
    "#  intersection_update 10\n",
    "#  2 3 5 6 8 9 1 4 7 11\n",
    "#  update 2\n",
    "#  55 66\n",
    "#  symmetric_difference_update 5\n",
    "#  22 7 35 62 58\n",
    "#  difference_update 7\n",
    "#  11 22 35 55 58 62 66\n",
    "\n",
    "# Sample Output\n",
    "# 38"
   ]
  },
  {
   "cell_type": "code",
   "execution_count": null,
   "metadata": {},
   "outputs": [],
   "source": [
    "# Enter your code here. Read input from STDIN. Print output to STDOUT\n",
    "n = int(input())\n",
    "A = set(map(int, input().split()))\n",
    "\n",
    "com = int(input())\n",
    "\n",
    "while com!=0:\n",
    "    B = []\n",
    "    c, n = input().split()\n",
    "    B = set(map(int, input().split()))\n",
    "    \n",
    "    if c == 'intersection_update':\n",
    "        A.intersection_update(B)\n",
    "    elif c == 'update':\n",
    "        A.update(B)\n",
    "    elif c == 'symmetric_difference_update':\n",
    "        A.symmetric_difference_update(B)\n",
    "    elif c == 'difference_update':\n",
    "        A.difference_update(B)\n",
    "    \n",
    "    com-=1        \n",
    "\n",
    "print(sum(A))"
   ]
  }
 ],
 "metadata": {
  "language_info": {
   "name": "python"
  }
 },
 "nbformat": 4,
 "nbformat_minor": 2
}
