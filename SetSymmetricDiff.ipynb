{
 "cells": [
  {
   "cell_type": "code",
   "execution_count": null,
   "metadata": {},
   "outputs": [],
   "source": [
    "# Task\n",
    "# Given  sets of integers,  and , print their symmetric difference in ascending order. The term symmetric difference indicates those values that exist in either  or  but do not exist in both.\n",
    "\n",
    "# Input Format\n",
    "\n",
    "# The first line of input contains an integer, .\n",
    "# The second line contains  space-separated integers.\n",
    "# The third line contains an integer, .\n",
    "# The fourth line contains  space-separated integers.\n",
    "\n",
    "# Output Format\n",
    "\n",
    "# Output the symmetric difference integers in ascending order, one per line.\n",
    "\n",
    "# Sample Input\n",
    "\n",
    "# STDIN       Function\n",
    "# -----       --------\n",
    "# 4           set a size M = 4\n",
    "# 2 4 5 9     a = {2, 4, 5, 9}\n",
    "# 4           set b size N = 4\n",
    "# 2 4 11 12   b = {2, 4, 11, 12}\n",
    "# Sample Output\n",
    "\n",
    "# 5\n",
    "# 9\n",
    "# 11\n",
    "# 12"
   ]
  },
  {
   "cell_type": "code",
   "execution_count": null,
   "metadata": {},
   "outputs": [],
   "source": [
    "# Enter your code here. Read input from STDIN. Print output to STDOUT\n",
    "size = int(input())\n",
    "\n",
    "ae = list(map(int, input().split(\" \")))\n",
    "a = set(ae)\n",
    "siz3 = int(input())\n",
    "be = list(map(int, input().split(\" \")))\n",
    "b = set(be)\n",
    "\n",
    "result = b.symmetric_difference(a)\n",
    "\n",
    "res = sorted(result)\n",
    "for i in res:\n",
    "    print(i)"
   ]
  }
 ],
 "metadata": {
  "language_info": {
   "name": "python"
  }
 },
 "nbformat": 4,
 "nbformat_minor": 2
}
