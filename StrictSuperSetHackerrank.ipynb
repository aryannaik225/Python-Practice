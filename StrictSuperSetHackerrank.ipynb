{
 "cells": [
  {
   "cell_type": "code",
   "execution_count": null,
   "metadata": {},
   "outputs": [],
   "source": [
    "# You are given a set A and n other sets.\n",
    "# Your job is to find whether set A is a strict superset of each of the N sets.\n",
    "\n",
    "# Print True, if A is a strict superset of each of the N sets. Otherwise, print False.\n",
    "\n",
    "# A strict superset has at least one element that does not exist in its subset.\n",
    "\n",
    "# Example\n",
    "# Set([1,3,4]) is a strict superset of set([1,3]).\n",
    "# Set([1,3,4]) is not a strict superset of set([1,3,4]).\n",
    "# Set([1,3,4]) is not a strict superset of set([1,3,5]).\n",
    "\n",
    "# Input Format\n",
    "# The first line contains the space separated elements of set A.\n",
    "# The second line contains integer n, the number of other sets.\n",
    "# The next n lines contains the space separated elements of the other sets.\n",
    "\n",
    "\n",
    "# Output Format\n",
    "# Print True if set A is a strict superset of all other N sets. Otherwise, print False.\n",
    "\n",
    "# Sample Input 0\n",
    "# 1 2 3 4 5 6 7 8 9 10 11 12 23 45 84 78\n",
    "# 2\n",
    "# 1 2 3 4 5\n",
    "# 100 11 12\n",
    "\n",
    "# Sample Output 0\n",
    "# False"
   ]
  },
  {
   "cell_type": "code",
   "execution_count": null,
   "metadata": {},
   "outputs": [],
   "source": [
    "# Enter your code here. Read input from STDIN. Print output to STDOUT\n",
    "\n",
    "A = set(map(int, input().split()))\n",
    "\n",
    "cout = int(input())\n",
    "res = True\n",
    "check = []\n",
    "\n",
    "for _ in range(cout):\n",
    "    # check.append([])\n",
    "    check.append(set(map(int, input().split())))\n",
    "\n",
    "for B in check:\n",
    "    if not (B.issubset(A) and len(A)>len(B)):\n",
    "        res = False\n",
    "        break\n",
    "\n",
    "print(res)\n",
    "    "
   ]
  }
 ],
 "metadata": {
  "language_info": {
   "name": "python"
  }
 },
 "nbformat": 4,
 "nbformat_minor": 2
}
