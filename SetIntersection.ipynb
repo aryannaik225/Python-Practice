{
 "cells": [
  {
   "cell_type": "code",
   "execution_count": null,
   "metadata": {},
   "outputs": [],
   "source": [
    "# Task\n",
    "# The students of District College have subscriptions to English and French newspapers. \n",
    "# Some students have subscribed only to English, some have subscribed only to French, and some have subscribed to both newspapers.\n",
    "\n",
    "# You are given two sets of student roll numbers. \n",
    "# One set has subscribed to the English newspaper, one set has subscribed to the French newspaper. \n",
    "# Your task is to find the total number of students who have subscribed to both newspapers.\n",
    "\n",
    "# Input Format\n",
    "# The first line contains an integer, n, the number of students who have subscribed to the English newspaper.\n",
    "# The second line contains n space separated roll numbers of those students.\n",
    "# The third line contains b, the number of students who have subscribed to the French newspaper.\n",
    "# The fourth line contains b space separated roll numbers of those students.\n",
    "\n",
    "# Output Format\n",
    "# Output the total number of students who have subscriptions to both English and French newspapers.\n",
    "\n",
    "# Sample Input\n",
    "# 9\n",
    "# 1 2 3 4 5 6 7 8 9\n",
    "# 9\n",
    "# 10 1 2 3 11 21 55 6 8\n",
    "\n",
    "# Sample Output\n",
    "# 5"
   ]
  },
  {
   "cell_type": "code",
   "execution_count": null,
   "metadata": {},
   "outputs": [],
   "source": [
    "# Enter your code here. Read input from STDIN. Print output to STDOUT\n",
    "\n",
    "n = int(input())\n",
    "s1 = set(map(int, input().split()))\n",
    "n = int(input())\n",
    "s2 = set(map(int, input().split()))\n",
    "\n",
    "print(len(s1.intersection(s2)))"
   ]
  }
 ],
 "metadata": {
  "language_info": {
   "name": "python"
  }
 },
 "nbformat": 4,
 "nbformat_minor": 2
}
