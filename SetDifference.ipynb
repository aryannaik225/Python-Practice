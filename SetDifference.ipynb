{
 "cells": [
  {
   "cell_type": "code",
   "execution_count": null,
   "metadata": {},
   "outputs": [],
   "source": [
    "# Task\n",
    "# Students of District College have a subscription to English and French newspapers. \n",
    "# Some students have subscribed to only the English newspaper, some have subscribed to only the French newspaper, and some have subscribed to both newspapers.\n",
    "\n",
    "# You are given two sets of student roll numbers. \n",
    "# One set has subscribed to the English newspaper, and one set has subscribed to the French newspaper. \n",
    "# Your task is to find the total number of students who have subscribed to only English newspapers.\n",
    "\n",
    "# Input Format\n",
    "# The first line contains the number of students who have subscribed to the English newspaper.\n",
    "# The second line contains the space separated list of student roll numbers who have subscribed to the English newspaper.\n",
    "# The third line contains the number of students who have subscribed to the French newspaper.\n",
    "# The fourth line contains the space separated list of student roll numbers who have subscribed to the French newspaper.\n",
    "\n",
    "# Output Format\n",
    "# Output the total number of students who are subscribed to the English newspaper only.\n",
    "\n",
    "# Sample Input\n",
    "# 9\n",
    "# 1 2 3 4 5 6 7 8 9\n",
    "# 9\n",
    "# 10 1 2 3 11 21 55 6 8\n",
    "\n",
    "# Sample Output\n",
    "# 4"
   ]
  },
  {
   "cell_type": "code",
   "execution_count": null,
   "metadata": {},
   "outputs": [],
   "source": [
    "n = int(input())\n",
    "s1 = set(map(int, input().split())) \n",
    "n = int(input())\n",
    "s2 = set(map(int, input().split()))\n",
    "\n",
    "print(len(s1.difference(s2)))"
   ]
  }
 ],
 "metadata": {
  "language_info": {
   "name": "python"
  }
 },
 "nbformat": 4,
 "nbformat_minor": 2
}
