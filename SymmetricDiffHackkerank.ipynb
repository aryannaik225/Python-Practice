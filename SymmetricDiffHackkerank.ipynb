{
 "cells": [
  {
   "cell_type": "code",
   "execution_count": null,
   "metadata": {},
   "outputs": [],
   "source": [
    "# Task\n",
    "# Students of District College have subscriptions to English and French newspapers. \n",
    "# Some students have subscribed to English only, some have subscribed to French only, and some have subscribed to both newspapers.\n",
    "\n",
    "# You are given two sets of student roll numbers. \n",
    "# One set has subscribed to the English newspaper, and one set has subscribed to the French newspaper. \n",
    "# Your task is to find the total number of students who have subscribed to either the English or the French newspaper but not both.\n",
    "\n",
    "# Input Format\n",
    "# The first line contains the number of students who have subscribed to the English newspaper.\n",
    "# The second line contains the space separated list of student roll numbers who have subscribed to the English newspaper.\n",
    "# The third line contains the number of students who have subscribed to the French newspaper.\n",
    "# The fourth line contains the space separated list of student roll numbers who have subscribed to the French newspaper.\n",
    "\n",
    "# Output Format\n",
    "# Output total number of students who have subscriptions to the English or the French newspaper but not both.\n",
    "\n",
    "# Sample Input\n",
    "# 9\n",
    "# 1 2 3 4 5 6 7 8 9\n",
    "# 9\n",
    "# 10 1 2 3 11 21 55 6 8\n",
    "\n",
    "# Sample Output\n",
    "# 8"
   ]
  },
  {
   "cell_type": "code",
   "execution_count": null,
   "metadata": {},
   "outputs": [],
   "source": [
    "# Enter your code here. Read input from STDIN. Print output to STDOUT\n",
    "n = int(input())\n",
    "eng = set(map(int, input().split()))\n",
    "n = int(input())\n",
    "fre = set(map(int, input().split()))\n",
    "\n",
    "solo = eng.symmetric_difference(fre)\n",
    "\n",
    "print(len(solo))"
   ]
  }
 ],
 "metadata": {
  "language_info": {
   "name": "python"
  }
 },
 "nbformat": 4,
 "nbformat_minor": 2
}
