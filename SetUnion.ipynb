{
 "cells": [
  {
   "cell_type": "code",
   "execution_count": null,
   "metadata": {},
   "outputs": [],
   "source": [
    "# Task\n",
    "# The students of District College have subscriptions to English and French newspapers. \n",
    "# Some students have subscribed only to English, some have subscribed to only French and some have subscribed to both newspapers.\n",
    "\n",
    "# You are given two sets of student roll numbers. \n",
    "# One set has subscribed to the English newspaper, and the other set is subscribed to the French newspaper. \n",
    "# The same student could be in both sets. Your task is to find the total number of students who have subscribed to at least one newspaper.\n",
    "\n",
    "# Input Format\n",
    "# The first line contains an integer, n, the number of students who have subscribed to the English newspaper.\n",
    "# The second line contains n space separated roll numbers of those students.\n",
    "# The third line contains b, the number of students who have subscribed to the French newspaper.\n",
    "# The fourth line contains b space separated roll numbers of those students.\n",
    "\n",
    "# Output Format\n",
    "# Output the total number of students who have at least one subscription.\n",
    "\n",
    "# Sample Input\n",
    "# 9\n",
    "# 1 2 3 4 5 6 7 8 9\n",
    "# 9\n",
    "# 10 1 2 3 11 21 55 6 8\n",
    "\n",
    "# Sample Output\n",
    "# 13\n"
   ]
  },
  {
   "cell_type": "code",
   "execution_count": 1,
   "metadata": {},
   "outputs": [
    {
     "name": "stdout",
     "output_type": "stream",
     "text": [
      "13\n"
     ]
    }
   ],
   "source": [
    "n = int(input())\n",
    "s1 = set(map(int, input().split()))\n",
    "n = int(input())\n",
    "s2 = set(map(int, input().split()))\n",
    "\n",
    "print(len(s1.union(s2)))"
   ]
  }
 ],
 "metadata": {
  "kernelspec": {
   "display_name": "Python 3",
   "language": "python",
   "name": "python3"
  },
  "language_info": {
   "codemirror_mode": {
    "name": "ipython",
    "version": 3
   },
   "file_extension": ".py",
   "mimetype": "text/x-python",
   "name": "python",
   "nbconvert_exporter": "python",
   "pygments_lexer": "ipython3",
   "version": "3.12.7"
  }
 },
 "nbformat": 4,
 "nbformat_minor": 2
}
