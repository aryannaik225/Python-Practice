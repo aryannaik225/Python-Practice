{
 "cells": [
  {
   "cell_type": "code",
   "execution_count": null,
   "metadata": {},
   "outputs": [],
   "source": [
    "# There is a school that has classes of students and each class will be having a final exam. You are given a 2D integer array classes, where\n",
    "# classes[i] = [passi, totali]. You know beforehand that in the ith class, there are totali total students, but only passi number of students\n",
    "# will pass the exam.\n",
    "\n",
    "# You are also given an integer extraStudents. There are another extraStudents brilliant students that are guaranteed to pass the exam of any\n",
    "# class they are assigned to. You want to assign each of the extraStudents students to a class in a way that maximizes the average pass ratio\n",
    "# across all the classes.\n",
    "\n",
    "# The pass ratio of a class is equal to the number of students of the class that will pass the exam divided by the total number of students of\n",
    "# the class. The average pass ratio is the sum of pass ratios of all the classes divided by the number of the classes.\n",
    "\n",
    "# Return the maximum possible average pass ratio after assigning the extraStudents students. Answers within 10-5 of the actual answer will be\n",
    "# accepted.\n",
    "\n",
    "# Example 1:\n",
    "\n",
    "# Input: classes = [[1,2],[3,5],[2,2]], extraStudents = 2\n",
    "# Output: 0.78333\n",
    "# Explanation: You can assign the two extra students to the first class. The average pass ratio will be equal to (3/4 + 3/5 + 2/2) / 3 = 0.783\n",
    "\n",
    "# Example 2:\n",
    "\n",
    "# Input: classes = [[2,4],[3,9],[4,5],[2,10]], extraStudents = 4\n",
    "# Output: 0.53485"
   ]
  },
  {
   "cell_type": "code",
   "execution_count": 7,
   "metadata": {},
   "outputs": [
    {
     "data": {
      "text/plain": [
       "0.7833333333333333"
      ]
     },
     "execution_count": 7,
     "metadata": {},
     "output_type": "execute_result"
    }
   ],
   "source": [
    "import heapq\n",
    "\n",
    "def maxAverageRatio(classes, extraStudents):\n",
    "    heap = []\n",
    "    for passi, totali in classes:\n",
    "        heapq.heappush(heap, (-(passi + 1) / (totali + 1) + passi / totali, passi, totali))\n",
    "    \n",
    "    for _ in range(extraStudents):\n",
    "        ratio_diff, passi, totali = heapq.heappop(heap)\n",
    "        passi += 1\n",
    "        totali += 1\n",
    "        heapq.heappush(heap, (-(passi + 1) / (totali + 1) + passi / totali, passi, totali))\n",
    "    \n",
    "    total_ratio = 0\n",
    "    for ratio_diff, passi, totali in heap:\n",
    "        total_ratio += passi / totali\n",
    "    \n",
    "    return total_ratio / len(classes)\n",
    "\n",
    "classes = [[1,2],[3,5],[2,2]]\n",
    "extraStudents = 2\n",
    "maxAverageRatio(classes, extraStudents)"
   ]
  }
 ],
 "metadata": {
  "kernelspec": {
   "display_name": "Python 3",
   "language": "python",
   "name": "python3"
  },
  "language_info": {
   "codemirror_mode": {
    "name": "ipython",
    "version": 3
   },
   "file_extension": ".py",
   "mimetype": "text/x-python",
   "name": "python",
   "nbconvert_exporter": "python",
   "pygments_lexer": "ipython3",
   "version": "3.12.7"
  }
 },
 "nbformat": 4,
 "nbformat_minor": 2
}
