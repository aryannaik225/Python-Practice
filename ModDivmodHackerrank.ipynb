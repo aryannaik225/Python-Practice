{
 "cells": [
  {
   "cell_type": "code",
   "execution_count": null,
   "metadata": {},
   "outputs": [],
   "source": [
    "# Task\n",
    "# Read in two integers, a and b, and print three lines.\n",
    "# The first line is the integer division a//b (While using Python2 remember to import division from __future__).\n",
    "# The second line is the result of the modulo operator: a%b.\n",
    "# The third line prints the divmod of a and b.\n",
    "\n",
    "# Input Format\n",
    "# The first line contains the first integer, a, and the second line contains the second integer, b.\n",
    "\n",
    "# Output Format\n",
    "# Print the result as described above.\n",
    "\n",
    "# Sample Input\n",
    "\n",
    "# 177\n",
    "# 10\n",
    "# Sample Output\n",
    "\n",
    "# 17\n",
    "# 7\n",
    "# (17, 7)"
   ]
  },
  {
   "cell_type": "code",
   "execution_count": null,
   "metadata": {},
   "outputs": [],
   "source": [
    "# Enter your code here. Read input from STDIN. Print output to STDOUT\n",
    "a,b = int(input()), int(input())\n",
    "res = divmod(a,b)\n",
    "print(\"{0}\\n{1}\\n{2}\".format(res[0], res[1], res))"
   ]
  }
 ],
 "metadata": {
  "language_info": {
   "name": "python"
  }
 },
 "nbformat": 4,
 "nbformat_minor": 2
}
