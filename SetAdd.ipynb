{
 "cells": [
  {
   "cell_type": "code",
   "execution_count": null,
   "metadata": {},
   "outputs": [],
   "source": [
    "# Task\n",
    "# Apply your knowledge of the .add() operation to help your friend Rupal.\n",
    "\n",
    "# Rupal has a huge collection of country stamps. She decided to count the total number of distinct country stamps in her collection. \n",
    "# She asked for your help. You pick the stamps one by one from a stack of N country stamps.\n",
    "\n",
    "# Find the total number of distinct country stamps.\n",
    "\n",
    "# Input Format\n",
    "# The first line contains an integer N, the total number of country stamps.\n",
    "# The next N lines contains the name of the country where the stamp is from.\n",
    "\n",
    "# Output Format\n",
    "# Output the total number of distinct country stamps on a single line.\n",
    "\n",
    "# Sample Input\n",
    "# 7\n",
    "# UK\n",
    "# China\n",
    "# USA\n",
    "# France\n",
    "# New Zealand\n",
    "# UK\n",
    "# France \n",
    "\n",
    "# Sample Output\n",
    "# 5\n",
    "\n",
    "# Explanation\n",
    "# UK and France repeat twice. Hence, the total number of distinct country stamps is 5 (five)."
   ]
  },
  {
   "cell_type": "code",
   "execution_count": 1,
   "metadata": {},
   "outputs": [
    {
     "name": "stdout",
     "output_type": "stream",
     "text": [
      "5\n"
     ]
    }
   ],
   "source": [
    "n = int(input())\n",
    "s = set()\n",
    "for i in range(n):\n",
    "  s.add(input())\n",
    "print(len(s))"
   ]
  }
 ],
 "metadata": {
  "kernelspec": {
   "display_name": "Python 3",
   "language": "python",
   "name": "python3"
  },
  "language_info": {
   "codemirror_mode": {
    "name": "ipython",
    "version": 3
   },
   "file_extension": ".py",
   "mimetype": "text/x-python",
   "name": "python",
   "nbconvert_exporter": "python",
   "pygments_lexer": "ipython3",
   "version": "3.12.7"
  }
 },
 "nbformat": 4,
 "nbformat_minor": 2
}
