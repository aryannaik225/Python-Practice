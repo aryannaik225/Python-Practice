{
 "cells": [
  {
   "cell_type": "code",
   "execution_count": null,
   "metadata": {},
   "outputs": [],
   "source": [
    "# There is an array of n integers. There are also 2 disjoint sets, A and B, each containing m integers. You like all the integers in set A and \n",
    "# dislike all the integers in set B . Your initial happiness is 0. For each i integer in the array, if i belongs to A, you add 1 to your \n",
    "# happiness. If i belongs to B, you add -1 to your happiness. Otherwise, your happiness does not change. Output your final happiness at the end.\n",
    "\n",
    "# Note: Since A and B are sets, they have no repeated elements. However, the array might contain duplicate elements."
   ]
  },
  {
   "cell_type": "code",
   "execution_count": null,
   "metadata": {},
   "outputs": [],
   "source": [
    "# Input Format\n",
    "\n",
    "# The first line contains integers n and m separated by a space.\n",
    "# The second line contains n integers, the elements of the array.\n",
    "# The third and fourth lines contain m integers, A and B, respectively.\n",
    "\n",
    "# Output Format\n",
    "\n",
    "# Output a single integer, your total happiness.\n",
    "\n",
    "# Sample Input\n",
    "\n",
    "# 3 2\n",
    "# 1 5 3\n",
    "# 3 1\n",
    "# 5 7\n",
    "# Sample Output\n",
    "\n",
    "# 1\n",
    "# Explanation\n",
    "\n",
    "# You gain 1 unit of happiness for elements 3 and 1 in set A. You lose 1 unit for 5 in set B. The element 7 in set B does not exist in the \n",
    "# array so it is not included in the calculation.\n",
    "\n",
    "# Hence, the total happiness is 2-1=1."
   ]
  },
  {
   "cell_type": "code",
   "execution_count": null,
   "metadata": {},
   "outputs": [],
   "source": [
    "# Enter your code here. Read input from STDIN. Print output to STDOUT\n",
    "\n",
    "n,m = map(int, input().split())\n",
    "\n",
    "arr = map(int, input().split(' '))\n",
    "A = set(map(int, input().split(' ')))\n",
    "B = set(map(int, input().split(' ')))\n",
    "\n",
    "happy = sum((i in A)-(i in B) for i in arr)\n",
    "\n",
    "print(happy)"
   ]
  }
 ],
 "metadata": {
  "language_info": {
   "name": "python"
  }
 },
 "nbformat": 4,
 "nbformat_minor": 2
}
