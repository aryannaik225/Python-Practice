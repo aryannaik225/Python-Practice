{
 "cells": [
  {
   "cell_type": "code",
   "execution_count": null,
   "metadata": {},
   "outputs": [],
   "source": [
    "# You are given a positive integer N.\n",
    "# Your task is to print a palindromic triangle of size N.\n",
    "# For example, a palindromic triangle of size 5 is:\n",
    "\n",
    "# 1\n",
    "# 121\n",
    "# 12321\n",
    "# 1234321\n",
    "# 123454321\n",
    "\n",
    "# You can't take more than two lines. The first line (a for-statement) is already written for you.\n",
    "# You have to complete the code using exactly one print statement.\n",
    "\n",
    "# Note:\n",
    "# Using anything related to strings will give a score of 0.\n",
    "# Using more than one for-statement will give a score of 0.\n",
    "\n",
    "# Input Format\n",
    "# A single line of input containing the integer N.\n",
    "\n",
    "# Constraints\n",
    "# 0 < N < 10\n",
    "\n",
    "# Output Format\n",
    "# Print the palindromic triangle of size N as explained above.\n",
    "\n",
    "# Sample Input\n",
    "# 5\n",
    "\n",
    "# Sample Output\n",
    "# 1\n",
    "# 121\n",
    "# 12321\n",
    "# 1234321\n",
    "# 123454321"
   ]
  },
  {
   "cell_type": "code",
   "execution_count": 2,
   "metadata": {},
   "outputs": [
    {
     "name": "stdout",
     "output_type": "stream",
     "text": [
      "1\n",
      "121\n",
      "12321\n",
      "1234321\n",
      "123454321\n",
      "12345654321\n",
      "1234567654321\n",
      "123456787654321\n",
      "12345678987654321\n",
      "1234567900987654321\n"
     ]
    }
   ],
   "source": [
    "for i in range(1,int(input())+1):\n",
    "    print((10**i-1)**2 //81)"
   ]
  }
 ],
 "metadata": {
  "kernelspec": {
   "display_name": "Python 3",
   "language": "python",
   "name": "python3"
  },
  "language_info": {
   "codemirror_mode": {
    "name": "ipython",
    "version": 3
   },
   "file_extension": ".py",
   "mimetype": "text/x-python",
   "name": "python",
   "nbconvert_exporter": "python",
   "pygments_lexer": "ipython3",
   "version": "3.12.7"
  }
 },
 "nbformat": 4,
 "nbformat_minor": 2
}
