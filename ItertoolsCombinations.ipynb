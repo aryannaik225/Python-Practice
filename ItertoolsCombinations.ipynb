{
 "cells": [
  {
   "cell_type": "code",
   "execution_count": null,
   "metadata": {},
   "outputs": [],
   "source": [
    "# Task\n",
    "# You are given a string S.\n",
    "# Your task is to print all possible combinations, up to size k, of the string in lexicographic sorted order.\n",
    "\n",
    "# Input Format\n",
    "# A single line containing the string S and integer value k separated by a space.\n",
    "\n",
    "# Sample Input\n",
    "# HACK 2\n",
    "\n",
    "# Sample Output\n",
    "# A\n",
    "# C\n",
    "# H\n",
    "# K\n",
    "# AC\n",
    "# AH\n",
    "# AK\n",
    "# CH\n",
    "# CK\n",
    "# HK"
   ]
  },
  {
   "cell_type": "code",
   "execution_count": 2,
   "metadata": {},
   "outputs": [
    {
     "name": "stdout",
     "output_type": "stream",
     "text": [
      "A\n",
      "C\n",
      "H\n",
      "K\n",
      "AC\n",
      "AH\n",
      "AK\n",
      "CH\n",
      "CK\n",
      "HK\n"
     ]
    }
   ],
   "source": [
    "# Enter your code here. Read input from STDIN. Print output to STDOUT\n",
    "from itertools import combinations\n",
    "\n",
    "str1, k = input().split()\n",
    "k = int(k)\n",
    "str1 = sorted(str1)\n",
    "\n",
    "for i in range(k):\n",
    "    mylist = []\n",
    "    mylist = list(combinations(str1, i+1))\n",
    "    for i in mylist:\n",
    "        for j in i:\n",
    "            print(j, end=\"\")\n",
    "        print(\"\")\n",
    "    "
   ]
  }
 ],
 "metadata": {
  "kernelspec": {
   "display_name": "Python 3",
   "language": "python",
   "name": "python3"
  },
  "language_info": {
   "codemirror_mode": {
    "name": "ipython",
    "version": 3
   },
   "file_extension": ".py",
   "mimetype": "text/x-python",
   "name": "python",
   "nbconvert_exporter": "python",
   "pygments_lexer": "ipython3",
   "version": "3.12.7"
  }
 },
 "nbformat": 4,
 "nbformat_minor": 2
}
