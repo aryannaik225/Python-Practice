{
 "cells": [
  {
   "cell_type": "code",
   "execution_count": null,
   "metadata": {},
   "outputs": [],
   "source": [
    "# Input Format\n",
    "# The first line contains integer n, the number of elements in the set s.\n",
    "# The second line contains n space separated elements of set s. All of the elements are non-negative integers, less than or equal to 9.\n",
    "# The third line contains integer N, the number of commands.\n",
    "# The next N lines contains either pop, remove and/or discard commands followed by their associated value.\n",
    "\n",
    "\n",
    "# Output Format\n",
    "# Print the sum of the elements of set s on a single line.\n",
    "\n",
    "# Sample Input\n",
    "# 9\n",
    "# 1 2 3 4 5 6 7 8 9\n",
    "# 10\n",
    "# pop\n",
    "# remove 9\n",
    "# discard 9\n",
    "# discard 8\n",
    "# remove 7\n",
    "# pop \n",
    "# discard 6\n",
    "# remove 5\n",
    "# pop \n",
    "# discard 5\n",
    "\n",
    "# Sample Output\n",
    "# 4\n",
    "\n",
    "# Explanation\n",
    "# After completing these 10 operations on the set, we get set([4]). Hence, the sum is 4.\n",
    "\n",
    "# Note: Convert the elements of set s to integers while you are assigning them. \n",
    "# To ensure the proper input of the set, we have added the first two lines of code to the editor."
   ]
  },
  {
   "cell_type": "code",
   "execution_count": null,
   "metadata": {},
   "outputs": [
    {
     "name": "stdout",
     "output_type": "stream",
     "text": [
      "{1, 2, 3, 4, 5, 6, 7, 8, 9}\n"
     ]
    }
   ],
   "source": [
    "# Enter your code here. Read input from STDIN. Print output to STDOUT\n",
    "n = int(input())\n",
    "myset = set(map(int, input().split()))\n",
    "com = int(input())\n",
    "\n",
    "for _ in range(com):\n",
    "    inputs = input().split()\n",
    "    c = inputs[0]\n",
    "    \n",
    "    if c == 'pop':\n",
    "        if myset:\n",
    "            smallest = min(myset)\n",
    "            myset.remove(smallest)\n",
    "    elif c == 'remove':\n",
    "        k = int(inputs[1])\n",
    "        if k in myset:\n",
    "            myset.remove(k)\n",
    "    elif c == 'discard':\n",
    "        k = int(inputs[1])\n",
    "        myset.discard(k)\n",
    "    else:\n",
    "        pass\n",
    "\n",
    "print(sum(myset))    \n",
    "    \n"
   ]
  }
 ],
 "metadata": {
  "kernelspec": {
   "display_name": "Python 3",
   "language": "python",
   "name": "python3"
  },
  "language_info": {
   "codemirror_mode": {
    "name": "ipython",
    "version": 3
   },
   "file_extension": ".py",
   "mimetype": "text/x-python",
   "name": "python",
   "nbconvert_exporter": "python",
   "pygments_lexer": "ipython3",
   "version": "3.12.7"
  }
 },
 "nbformat": 4,
 "nbformat_minor": 2
}
