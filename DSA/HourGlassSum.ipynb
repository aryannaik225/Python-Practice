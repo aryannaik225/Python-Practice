{
 "cells": [
  {
   "cell_type": "code",
   "execution_count": null,
   "metadata": {},
   "outputs": [],
   "source": [
    "# Given a 6x6 2D array, arr, an hourglass is a subset of values with indices falling in the following pattern:\n",
    "# a b c\n",
    "#   d  \n",
    "# e f g\n",
    "# There are 16 hourglasses in arr. An hourglass sum is the sum of an hourglass' values. Calculate the hourglass sum for every hourglass in arr, then print the maximum hourglass sum.\n",
    "\n",
    "# Example\n",
    "# arr = \n",
    "# -9 -9 -9  1 1 1\n",
    "#  0 -9  0  4 3 2\n",
    "# -9 -9 -9  1 2 3\n",
    "#  0  0  8  6 6 0\n",
    "#  0  0  0 -2 0 0\n",
    "#  0  0  1  2 4 0\n",
    "\n",
    "# The 16 hourglass sums are:\n",
    "# -63, -34, -9, 12,\n",
    "# -10,   0, 28, 23,\n",
    "# -27, -11, -2, 10,\n",
    "#   9,  17, 25, 18\n",
    "\n",
    "# The highest hourglass sum is 28 from the hourglass beginning at row 1, column 2:\n",
    "\n",
    "# 0 4 3\n",
    "#   1\n",
    "# 8 6 6\n",
    "\n",
    "# Function Description\n",
    "# Complete the function hourglassSum in the editor below.\n",
    "# hourglassSum has the following parameter(s):\n",
    "# - int arr[6][6]: an array of integers\n",
    "\n",
    "# Returns\n",
    "# - int: the maximum hourglass sum\n",
    "\n",
    "# Input Format\n",
    "# Each of the 6 lines of inputs arr[i] contains 6 space-separated integers arr[i][j].\n",
    "\n",
    "# Constraints\n",
    "# -9 ≤ arr[i][j] ≤ 9\n",
    "# 0 ≤ i, j ≤ 5\n",
    "\n",
    "# Sample Input\n",
    "#     1 1 1 0 0 0\n",
    "#     0 1 0 0 0 0\n",
    "#     1 1 1 0 0 0\n",
    "#     0 0 2 4 4 0\n",
    "#     0 0 0 2 0 0\n",
    "#     0 0 1 2 4 0\n",
    "\n",
    "# Sample Output\n",
    "# 19\n",
    "\n",
    "# Explanation\n",
    "# arr contains the following hourglasses:\n",
    "# 1 1 1   1 1 0   1 0 0   0 0 0\n",
    "#   1       0       0       0\n",
    "# 1 1 1   1 1 0   1 0 0   0 0 0\n",
    "\n",
    "# 0 1 0   1 0 0   0 0 0   0 0 0\n",
    "#   1       1       0       0\n",
    "# 1 1 1   1 1 0   1 0 0   0 0 0\n",
    "\n",
    "# 1 1 1   1 1 0   1 0 0   0 0 0\n",
    "#   0       2       4       4\n",
    "# 0 0 2   0 2 4   2 4 4   4 4 0\n",
    "\n",
    "# 0 0 2   0 2 4   2 4 4   4 4 0\n",
    "#   0       0       2       0\n",
    "# 0 0 0   0 0 2   0 2 0   2 0 0\n",
    "\n",
    "# The hourglass with the maximum sum (19) is:\n",
    "# 2 4 4\n",
    "#   2\n",
    "# 1 2 4\n"
   ]
  },
  {
   "cell_type": "code",
   "execution_count": null,
   "metadata": {},
   "outputs": [
    {
     "name": "stdout",
     "output_type": "stream",
     "text": [
      "19\n"
     ]
    }
   ],
   "source": [
    "def hourglassSum(arr):\n",
    "  max_sum = float('-inf')\n",
    "    \n",
    "  for i in range(4):\n",
    "      for j in range(4):\n",
    "          hourSum = arr[i][j] + arr[i][j+1] + arr[i][j+2] + arr[i+1][j+1] + arr[i+2][j] + arr[i+2][j+1] + arr[i+2][j+2]\n",
    "          \n",
    "          max_sum = max(max_sum, hourSum)\n",
    "  return max_sum \n",
    "\n",
    "arr = [[1, 1, 1, 0, 0, 0], [0, 1, 0, 0, 0, 0], [1, 1, 1, 0, 0, 0], [0, 0, 2, 4, 4, 0], [0, 0, 0, 2, 0, 0], [0, 0, 1, 2, 4, 0]]\n",
    "print(hourglassSum(arr))"
   ]
  }
 ],
 "metadata": {
  "kernelspec": {
   "display_name": "Python 3",
   "language": "python",
   "name": "python3"
  },
  "language_info": {
   "codemirror_mode": {
    "name": "ipython",
    "version": 3
   },
   "file_extension": ".py",
   "mimetype": "text/x-python",
   "name": "python",
   "nbconvert_exporter": "python",
   "pygments_lexer": "ipython3",
   "version": "3.12.7"
  }
 },
 "nbformat": 4,
 "nbformat_minor": 2
}
