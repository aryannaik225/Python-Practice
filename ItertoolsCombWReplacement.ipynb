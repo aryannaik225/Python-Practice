{
 "cells": [
  {
   "cell_type": "code",
   "execution_count": null,
   "metadata": {},
   "outputs": [],
   "source": [
    "# Task\n",
    "# You are given a string S.\n",
    "# Your task is to print all possible size k replacement combinations of the string in lexicographic sorted order.\n",
    "\n",
    "# Input Format\n",
    "# A single line containing the string S and integer value k separated by a space.\n",
    "\n",
    "# Sample Input\n",
    "# HACK 2\n",
    "\n",
    "# Sample Output\n",
    "# AA\n",
    "# AC\n",
    "# AH\n",
    "# AK\n",
    "# CC\n",
    "# CH\n",
    "# CK\n",
    "# HH\n",
    "# HK\n",
    "# KK"
   ]
  },
  {
   "cell_type": "code",
   "execution_count": 1,
   "metadata": {},
   "outputs": [
    {
     "name": "stdout",
     "output_type": "stream",
     "text": [
      "AA\n",
      "AC\n",
      "AH\n",
      "AK\n",
      "CC\n",
      "CH\n",
      "CK\n",
      "HH\n",
      "HK\n",
      "KK\n"
     ]
    }
   ],
   "source": [
    "# Enter your code here. Read input from STDIN. Print output to STDOUT\n",
    "from itertools import combinations_with_replacement\n",
    "\n",
    "str1, k = input().split()\n",
    "k = int(k)\n",
    "str1 = sorted(str1)\n",
    "\n",
    "mylist = list(combinations_with_replacement(str1, k))\n",
    "\n",
    "for i in mylist:\n",
    "    for j in i:\n",
    "        print(j, end=\"\")\n",
    "    print(\"\")"
   ]
  }
 ],
 "metadata": {
  "kernelspec": {
   "display_name": "Python 3",
   "language": "python",
   "name": "python3"
  },
  "language_info": {
   "codemirror_mode": {
    "name": "ipython",
    "version": 3
   },
   "file_extension": ".py",
   "mimetype": "text/x-python",
   "name": "python",
   "nbconvert_exporter": "python",
   "pygments_lexer": "ipython3",
   "version": "3.12.7"
  }
 },
 "nbformat": 4,
 "nbformat_minor": 2
}
